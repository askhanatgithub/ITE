{
 "cells": [
  {
   "cell_type": "code",
   "execution_count": 52,
   "id": "d54e5b54",
   "metadata": {},
   "outputs": [],
   "source": [
    "import GPy\n",
    "import string\n",
    "import numpy as np\n",
    "import pandas as pd\n",
    "#import cPickle as pickle\n",
    "from GPy.util import pca\n",
    "from matplotlib import pyplot as plt\n",
    "import torch\n",
    "from sklearn import svm\n",
    "%matplotlib inline"
   ]
  },
  {
   "cell_type": "code",
   "execution_count": 53,
   "id": "ad205993",
   "metadata": {},
   "outputs": [],
   "source": [
    "def get_data(data_type,file_num):\n",
    "\n",
    "    if(data_type=='train'):\n",
    "        data=pd.read_csv(f\"Dataset/IHDP_a/ihdp_npci_train_{file_num}.csv\")\n",
    "        #data=pd.read_csv(f\"Data/ihdp_npci_train_{file_num}.csv\",index_col=False)\n",
    "    else:\n",
    "        data = pd.read_csv(f\"Dataset/IHDP_a/ihdp_npci_test_{file_num}.csv\")\n",
    "        #data = pd.read_csv(f\"Data/ihdp_npci_test_{file_num}.csv\",index_col=False)\n",
    "\n",
    "    x_data=pd.concat([data.iloc[:,0], data.iloc[:, 1:30]], axis = 1)\n",
    " \n",
    "   \n",
    "    y_data=data.iloc[:, 1]\n",
    "    \n",
    "    return x_data,y_data\n",
    "\n",
    "def cal_pehe(y_1,y_0,test_x):\n",
    "    #pehe...\n",
    "    cate_pred=y_1-y_0\n",
    "    #cate_pred=y1-y0\n",
    "    cate_true=test_x.iloc[:,4]-test_x.iloc[:,3] #Hill's noiseless true values\n",
    "    cate_err=np.mean( np.square( ( (cate_true) - (cate_pred) ) ) )\n",
    "    return np.sqrt(cate_err)"
   ]
  },
  {
   "cell_type": "code",
   "execution_count": 54,
   "id": "2eb48305",
   "metadata": {},
   "outputs": [],
   "source": [
    "def train_GPLVM(input_dim,Yn):\n",
    "    input_dim = input_dim\n",
    "    # define covariance function to be used\n",
    "    kernel = GPy.kern.Linear(input_dim, ARD=True)\n",
    "    # setup the GPLVM model\n",
    "    m = GPy.models.GPLVM(Yn, input_dim=input_dim, kernel=kernel)\n",
    "    # optimize for 1000 iterations\n",
    "    m.optimize(messages=1, max_iters=1000) \n",
    "    return m"
   ]
  },
  {
   "cell_type": "code",
   "execution_count": 55,
   "id": "6b844b98",
   "metadata": {},
   "outputs": [
    {
     "name": "stdout",
     "output_type": "stream",
     "text": [
      "Running L-BFGS-B (Scipy implementation) Code:\n",
      "  runtime   i      f              |g|        \n",
      "    00s19  0001   2.294265e+04   1.308345e+07 \n",
      "    03s25  0063  -7.018035e+04   2.633211e+08 \n",
      "    10s42  0219  -1.234846e+05   3.874991e+08 \n",
      "    11s58  0245  -1.234874e+05   3.038783e+05 \n",
      "Runtime:     11s58\n",
      "Optimization status: Converged\n",
      "\n",
      "Running L-BFGS-B (Scipy implementation) Code:\n",
      "  runtime   i      f              |g|        \n",
      "    00s14  0000   2.294026e+04           nan \n",
      "    00s18  0001   2.294026e+04   1.308950e+07 \n",
      "    02s23  0042  -3.896623e+04   3.891657e+08 \n",
      "    08s35  0170  -1.225399e+05   5.948616e+07 \n",
      "    26s80  0519  -1.227388e+05   7.306017e+07 \n",
      "    52s37  1002  -1.246046e+05   3.656849e+09 \n",
      "Runtime:     52s37\n",
      "Optimization status: Maximum number of f evaluations reached\n",
      "\n",
      "Running L-BFGS-B (Scipy implementation) Code:\n",
      "  runtime   i      f              |g|        \n",
      "    00s16  0001   2.294675e+04   1.305913e+07 \n",
      "    02s21  0043  -5.058911e+04   1.340663e+08 \n",
      "    08s33  0183  -1.238960e+05   8.489551e+06 \n",
      "    13s49  0283  -1.244098e+05   7.866305e+07 \n",
      "    46s68  0825  -1.245176e+05   1.355011e+09 \n",
      "    57s04  1003  -1.249007e+05   1.554750e+08 \n",
      "Runtime:     57s04\n",
      "Optimization status: Maximum number of f evaluations reached\n",
      "\n",
      "Running L-BFGS-B (Scipy implementation) Code:\n",
      "  runtime   i      f              |g|        \n",
      "    00s14  0000   2.294873e+04           nan \n",
      "    01s17  0017   9.322806e+03   4.832391e+08 \n",
      "    05s28  0091  -1.032288e+05   5.288355e+09 \n",
      "    07s33  0127  -1.229626e+05   1.581189e+09 \n",
      "    22s69  0399  -1.244784e+05   1.003266e+06 \n",
      "    31s86  0562  -1.245025e+05   1.589770e+06 \n",
      "    56s59  1002  -1.247008e+05   9.636929e+05 \n",
      "Runtime:     56s59\n",
      "Optimization status: Maximum number of f evaluations reached\n",
      "\n",
      "Running L-BFGS-B (Scipy implementation) Code:\n",
      "  runtime   i      f              |g|        \n",
      "    00s14  0000   2.295170e+04           nan \n",
      "    02s21  0039  -4.048909e+04   4.324096e+07 \n",
      "    08s36  0148  -1.236641e+05   3.428366e+08 \n",
      "    11s40  0202  -1.237633e+05   6.428876e+07 \n",
      "    12s49  0220  -1.237745e+05   1.443760e+06 \n",
      "    13s68  0238  -1.237746e+05   3.287701e+04 \n",
      "Runtime:     13s68\n",
      "Optimization status: Converged\n",
      "\n",
      "Running L-BFGS-B (Scipy implementation) Code:\n",
      "  runtime   i      f              |g|        \n",
      "    01s09  0016   4.595948e+06   2.168688e+13 \n",
      "    05s18  0095  -9.459653e+04   4.383282e+10 \n",
      "    17s63  0307  -1.232267e+05   6.255202e+09 \n",
      "    55s86  0902  -1.249272e+05   4.882585e+07 \n",
      " 01m01s43  1002  -1.249416e+05   6.349664e+06 \n",
      "Runtime:  01m01s43\n",
      "Optimization status: Maximum number of f evaluations reached\n",
      "\n",
      "Running L-BFGS-B (Scipy implementation) Code:\n",
      "  runtime   i      f              |g|        \n",
      "    00s15  0000   2.293853e+04           nan \n",
      "    02s18  0041  -4.168336e+04   2.250145e+07 \n",
      "    08s31  0154  -1.223332e+05   4.099494e+07 \n",
      "    29s09  0468  -1.229952e+05   1.145770e+06 \n",
      " 01m05s19  1002  -1.247973e+05   4.115905e+06 \n",
      "Runtime:  01m05s19\n",
      "Optimization status: Maximum number of f evaluations reached\n",
      "\n",
      "Running L-BFGS-B (Scipy implementation) Code:\n",
      "  runtime   i      f              |g|        \n",
      "    01s31  0019   1.534065e+03   1.109098e+07 \n",
      "    05s44  0087  -9.194793e+04   7.626345e+08 \n",
      "    17s96  0269  -1.232072e+05   4.518838e+07 \n",
      "    54s03  0775  -1.240947e+05   2.075713e+06 \n",
      " 01m09s75  1002  -1.241591e+05   8.249395e+07 \n",
      "Runtime:  01m09s75\n",
      "Optimization status: Maximum number of f evaluations reached\n",
      "\n",
      "Running L-BFGS-B (Scipy implementation) Code:\n",
      "  runtime   i      f              |g|        \n",
      "    00s13  0000   2.294013e+04           nan \n",
      "    02s17  0044   8.356732e+04   5.297992e+10 \n",
      "    09s31  0171  -1.217468e+05   3.720817e+08 \n",
      "    32s33  0520  -1.225548e+05   2.119378e+06 \n",
      "    52s01  0804  -1.248091e+05   3.094503e+06 \n",
      " 01m04s72  1002  -1.248542e+05   1.283128e+07 \n",
      "Runtime:  01m04s72\n",
      "Optimization status: Maximum number of f evaluations reached\n",
      "\n"
     ]
    }
   ],
   "source": [
    "#fil_num=50\n",
    "input_dim=70\n",
    "pehe_error=[]\n",
    "for i in range(1,10):\n",
    "    x_data,y_data=get_data('train',i)\n",
    "    test_x,test_y=get_data('test',i)\n",
    "    x_train_sr=x_data[x_data['treatment']==1]\n",
    "    y_train_sr=y_data[x_data['treatment']==1]\n",
    "    x_train_tr=x_data[x_data['treatment']==0]\n",
    "    y_train_tr=y_data[x_data['treatment']==0]\n",
    "    Yn=x_data.iloc[:,5:30].to_numpy()\n",
    "    labels=x_data.iloc[:,0].to_numpy()\n",
    "    m=train_GPLVM(input_dim,Yn)\n",
    "    #color=np.where(labels==1, 'Red','Green')\n",
    "    ar=np.array(m.X)\n",
    "    reg_0 = svm.SVR()\n",
    "    reg_1=svm.SVR()\n",
    "    embedded_data=np.concatenate((ar, labels.reshape(-1, 1)),axis=1)\n",
    "    s_data=embedded_data[embedded_data[:,input_dim]==1]\n",
    "    t_data=embedded_data[embedded_data[:,input_dim]==0]\n",
    "    test_data=m.infer_newX(test_x.iloc[:,5:30].to_numpy())\n",
    "    test_embd=np.array(test_data[0])\n",
    "    reg_1.fit(s_data[:,0:input_dim], y_train_sr)\n",
    "    y_1=reg_1.predict(test_embd)\n",
    "    reg_0.fit(t_data[:,0:input_dim], y_train_tr)\n",
    "    y_0=reg_0.predict(test_embd)\n",
    "    pehe=cal_pehe(y_1,y_0,test_x)\n",
    "    pehe_error.append(pehe)"
   ]
  },
  {
   "cell_type": "code",
   "execution_count": 56,
   "id": "34b0846b",
   "metadata": {},
   "outputs": [
    {
     "data": {
      "text/plain": [
       "[1.0316941702327485,\n",
       " 0.5833869485543499,\n",
       " 0.9468282605089777,\n",
       " 0.5276573485791505,\n",
       " 0.9363706463241634,\n",
       " 2.20324496343598,\n",
       " 0.5475006238254314,\n",
       " 0.4952081124080344,\n",
       " 1.1219374977458885]"
      ]
     },
     "execution_count": 56,
     "metadata": {},
     "output_type": "execute_result"
    }
   ],
   "source": [
    "pehe_error"
   ]
  },
  {
   "cell_type": "code",
   "execution_count": 57,
   "id": "b09c33ed",
   "metadata": {},
   "outputs": [
    {
     "data": {
      "text/plain": [
       "0.9326476190683027"
      ]
     },
     "execution_count": 57,
     "metadata": {},
     "output_type": "execute_result"
    }
   ],
   "source": [
    "np.mean(pehe_error)"
   ]
  },
  {
   "cell_type": "code",
   "execution_count": null,
   "id": "ff45b3b9",
   "metadata": {},
   "outputs": [],
   "source": []
  },
  {
   "cell_type": "code",
   "execution_count": null,
   "id": "444733be",
   "metadata": {},
   "outputs": [],
   "source": []
  }
 ],
 "metadata": {
  "kernelspec": {
   "display_name": "RL",
   "language": "python",
   "name": "rl"
  },
  "language_info": {
   "codemirror_mode": {
    "name": "ipython",
    "version": 3
   },
   "file_extension": ".py",
   "mimetype": "text/x-python",
   "name": "python",
   "nbconvert_exporter": "python",
   "pygments_lexer": "ipython3",
   "version": "3.10.6"
  }
 },
 "nbformat": 4,
 "nbformat_minor": 5
}
