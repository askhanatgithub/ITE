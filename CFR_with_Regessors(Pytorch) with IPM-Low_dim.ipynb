{
 "cells": [
  {
   "cell_type": "code",
   "execution_count": 104,
   "id": "52542919",
   "metadata": {},
   "outputs": [
    {
     "data": {
      "text/plain": [
       "<torch._C.Generator at 0x7f44ff090b10>"
      ]
     },
     "execution_count": 104,
     "metadata": {},
     "output_type": "execute_result"
    }
   ],
   "source": [
    "import numpy as np\n",
    "import pandas as pd\n",
    "import seaborn as sns\n",
    "from sklearn.model_selection import train_test_split\n",
    "from sklearn.utils import resample\n",
    "from sklearn.manifold import TSNE\n",
    "import torch\n",
    "from torch.utils.data import Dataset, DataLoader\n",
    "from torch import nn\n",
    "from torch import optim\n",
    "from geomloss import SamplesLoss\n",
    "from torch.autograd import Function\n",
    "import torch.nn.functional as F\n",
    "import matplotlib.pyplot as plt\n",
    "from torch.nn.functional import normalize\n",
    "#from torchmetrics.classification import BinaryAccuracy\n",
    "from torchmetrics.classification import BinaryF1Score\n",
    "torch.manual_seed(0)"
   ]
  },
  {
   "cell_type": "code",
   "execution_count": 105,
   "id": "e50bd733",
   "metadata": {},
   "outputs": [],
   "source": [
    "class TarNet(nn.Module):\n",
    "    def __init__(self,\n",
    "                 input_dim,\n",
    "                 regularization=.01):\n",
    "        super(TarNet, self).__init__()\n",
    "        self.encoder1 = nn.Linear(input_dim, 200)\n",
    "        self.encoder2 = nn.Linear(200, 200)\n",
    "        self.encoder3 = nn.Linear(200, 200)\n",
    "\n",
    "        self.regressor1_y0 = nn.Sequential(\n",
    "            nn.Linear(200, 100),\n",
    "            nn.ELU(),\n",
    "            nn.Dropout(p=regularization),\n",
    "        )\n",
    "        self.regressor2_y0 = nn.Sequential(\n",
    "            nn.Linear(100, 100),\n",
    "            nn.ELU(),\n",
    "            nn.Dropout(p=regularization),\n",
    "        )\n",
    "        self.regressorO_y0 = nn.Linear(100, 1)\n",
    "\n",
    "        self.regressor1_y1 = nn.Sequential(\n",
    "            nn.Linear(200, 100),\n",
    "            nn.ELU(),\n",
    "            nn.Dropout(p=regularization),\n",
    "        )\n",
    "        self.regressor2_y1 = nn.Sequential(\n",
    "            nn.Linear(100, 100),\n",
    "            nn.ELU(),\n",
    "            nn.Dropout(p=regularization),\n",
    "        )\n",
    "        self.regressorO_y1 = nn.Linear(100, 1)\n",
    "\n",
    "\n",
    "    def forward(self, inputs):\n",
    "        x = nn.functional.elu(self.encoder1(inputs))\n",
    "        x = nn.functional.elu(self.encoder2(x))\n",
    "        phi = nn.functional.elu(self.encoder3(x))\n",
    "\n",
    "        out_y0 = self.regressor1_y0(phi)\n",
    "        out_y0 = self.regressor2_y0(out_y0)\n",
    "        y0 = self.regressorO_y0(out_y0)\n",
    "\n",
    "        out_y1 = self.regressor1_y1(phi)\n",
    "        out_y1 = self.regressor2_y1(out_y1)\n",
    "        y1 = self.regressorO_y1(out_y1)\n",
    "\n",
    "        concat = torch.cat((y0, y1,phi), 1)\n",
    "        return concat"
   ]
  },
  {
   "cell_type": "code",
   "execution_count": 106,
   "id": "48800d31",
   "metadata": {},
   "outputs": [],
   "source": [
    "class Data(Dataset):\n",
    "    def __init__(self, X, y):\n",
    "        self.X = torch.from_numpy(X.astype(np.float32))\n",
    "        self.y = torch.from_numpy(y.astype(np.float32))\n",
    "        self.len = self.X.shape[0]\n",
    "       \n",
    "    def __getitem__(self, index):\n",
    "        return self.X[index], self.y[index]\n",
    "   \n",
    "    def __len__(self):\n",
    "        return self.len"
   ]
  },
  {
   "cell_type": "code",
   "execution_count": 107,
   "id": "d80cf340",
   "metadata": {},
   "outputs": [],
   "source": [
    "def get_data(data_type,file_num):\n",
    "\n",
    "    if(data_type=='train'):\n",
    "        data=pd.read_csv(f\"Dataset/IHDP_a/ihdp_npci_train_{file_num}.csv\")\n",
    "    else:\n",
    "        data = pd.read_csv(f\"Dataset/IHDP_a/ihdp_npci_test_{file_num}.csv\")\n",
    "\n",
    "    x_data=pd.concat([data.iloc[:,0], data.iloc[:, 1:30]], axis = 1)\n",
    "    #x_data=data.iloc[:, 5:30]\n",
    "    y_data=data.iloc[:, 1]\n",
    "    return x_data,y_data"
   ]
  },
  {
   "cell_type": "code",
   "execution_count": 108,
   "id": "2319f810",
   "metadata": {},
   "outputs": [],
   "source": [
    "def get_dataloader(x_data,y_data,batch_size):\n",
    "\n",
    "    x_train_sr=x_data[x_data['treatment']==0]\n",
    "    y_train_sr=y_data[x_data['treatment']==0]\n",
    "    x_train_tr=x_data[x_data['treatment']==1]\n",
    "    y_train_tr=y_data[x_data['treatment']==1]\n",
    "\n",
    "\n",
    "    train_data_sr = Data(np.array(x_train_sr), np.array(y_train_sr))\n",
    "    train_dataloader_sr = DataLoader(dataset=train_data_sr, batch_size=batch_size)\n",
    "\n",
    "    train_data_tr = Data(np.array(x_train_tr), np.array(y_train_tr))\n",
    "    train_dataloader_tr = DataLoader(dataset=train_data_tr, batch_size=batch_size)\n",
    "\n",
    "\n",
    "    return train_dataloader_sr, train_dataloader_tr"
   ]
  },
  {
   "cell_type": "code",
   "execution_count": 109,
   "id": "b92cc291",
   "metadata": {},
   "outputs": [],
   "source": [
    "def regression_loss(concat_true, concat_pred):\n",
    "    #computes a standard MSE loss for TARNet\n",
    "    y_true = concat_true[:, 0] #get individual vectors\n",
    "    t_true = concat_true[:, 1]\n",
    "\n",
    "    y0_pred = concat_pred[:, 0]\n",
    "    y1_pred = concat_pred[:, 1]\n",
    "\n",
    "    #Each head outputs a prediction for both potential outcomes\n",
    "    #We use t_true as a switch to only calculate the factual loss\n",
    "    loss0 = torch.sum((1. - t_true) * torch.square(y_true - y0_pred))\n",
    "    loss1 = torch.sum(t_true * torch.square(y_true - y1_pred))\n",
    "    #note Shi uses tf.reduce_sum for her losses instead of tf.reduce_mean.\n",
    "    #They should be equivalent but it's possible that having larger gradients accelerates convergence.\n",
    "    #You can always try changing it!\n",
    "    return loss0 + loss1"
   ]
  },
  {
   "cell_type": "code",
   "execution_count": 110,
   "id": "46c8c04c",
   "metadata": {},
   "outputs": [],
   "source": [
    "def calc_mmdsq(Phi, t):\n",
    "    Phic, Phit = torch.split(Phi, [torch.sum(t == 0), torch.sum(t == 1)], dim=0)\n",
    "    sig=0.1\n",
    "    #p=1e-4\n",
    "    p=0.5\n",
    "    sig = torch.tensor(sig)\n",
    "    Kcc = torch.exp(-torch.cdist(Phic, Phic, 2.0001) / torch.sqrt(sig))\n",
    "    Kct = torch.exp(-torch.cdist(Phic, Phit, 2.0001) / torch.sqrt(sig))\n",
    "    Ktt = torch.exp(-torch.cdist(Phit, Phit, 2.0001) / torch.sqrt(sig))\n",
    "\n",
    "    m = Phic.shape[0]\n",
    "    n = Phit.shape[0]\n",
    "\n",
    "    mmd = (1 - p) ** 2 / (m * m) * (Kcc.sum() - m)\n",
    "    mmd += p ** 2 / (n * n) * (Ktt.sum() - n)\n",
    "    mmd -= - 2 * p * (1 - p) / (m * n) * Kct.sum()\n",
    "    mmd *= 4\n",
    "    '''\n",
    "    mmd = (1 - p) ** 2 / (m * (m - 1)) * (Kcc.sum() - m)\n",
    "    mmd += p ** 2 / (n * (n - 1)) * (Ktt.sum() - n)\n",
    "    mmd -= - 2 * p * (1 - p) / (m * n) * Kct.sum()\n",
    "    mmd *= 4\n",
    "    '''\n",
    "    return mmd\n",
    "\n",
    "def mmdsq_loss(concat_true,concat_pred):\n",
    "    t_true = concat_true[:, 1]\n",
    "    p=split_pred(concat_pred)\n",
    "    mmdsq_loss = torch.mean(calc_mmdsq(p['phi'],t_true))\n",
    "    return mmdsq_loss\n",
    "\n",
    "def split_pred(concat_pred):\n",
    "      #generic helper to make sure we dont make mistakes\n",
    "    preds={}\n",
    "    preds['y0_pred'] = concat_pred[:, 0]\n",
    "    preds['y1_pred'] = concat_pred[:, 1]\n",
    "    preds['phi'] = concat_pred[:, 2:]\n",
    "    return preds\n",
    "\n",
    "def calc_wasse(Phi):\n",
    "    \n",
    "    loss1 = SamplesLoss(loss=\"sinkhorn\", p=2, blur=.05)\n",
    "    num_zero=torch.zeros((Phi.shape[0]),1)\n",
    "    num_ones=torch.ones((Phi.shape[0]),1)\n",
    "    phi_zero=torch.cat((Phi,num_zero),1)\n",
    "    phi_ones=torch.cat((Phi,num_ones),1)\n",
    "    \n",
    "    wasser = loss1(phi_zero, phi_ones)\n",
    " \n",
    "    return wasser\n",
    "\n",
    "\n",
    "def cfr_loss(concat_true,concat_pred):\n",
    "    alpha=1\n",
    "    lossR = regression_loss(concat_true,concat_pred)\n",
    "    lossIPM = mmdsq_loss(concat_true,concat_pred)\n",
    "    wass_loss=calc_wasse(concat_pred[:,2:])\n",
    "    return lossR +wass_loss+alpha*lossIPM\n"
   ]
  },
  {
   "cell_type": "code",
   "execution_count": 111,
   "id": "536f4a19",
   "metadata": {},
   "outputs": [],
   "source": [
    "def cal_pehe(i):\n",
    "    data,y=get_data('test',i)\n",
    "\n",
    "    data=data.to_numpy()\n",
    "    data=torch.from_numpy(data.astype(np.float32))\n",
    "\n",
    "\n",
    "\n",
    "    concat_pred=net(data[:,5:30])\n",
    "    #dont forget to rescale the outcome before estimation!\n",
    "    #y0_pred = data['y_scaler'].inverse_transform(concat_pred[:, 0].reshape(-1, 1))\n",
    "    #y1_pred = data['y_scaler'].inverse_transform(concat_pred[:, 1].reshape(-1, 1))\n",
    "    cate_pred=concat_pred[:,1]-concat_pred[:,0]\n",
    "    cate_true=data[:,4]-data[:,3] #Hill's noiseless true values\n",
    "\n",
    "\n",
    "    cate_err=torch.mean( torch.square( ( (cate_true) - (cate_pred) ) ) )\n",
    "\n",
    "    return torch.sqrt(cate_err).item()\n"
   ]
  },
  {
   "cell_type": "code",
   "execution_count": 112,
   "id": "5226d04a",
   "metadata": {},
   "outputs": [],
   "source": [
    "def loss_cal(X_data,y_data,net):\n",
    "    \n",
    "    x_train_sr=X_data[X_data['treatment']==0]\n",
    "    y_train_sr=y_data[X_data['treatment']==0]\n",
    "    x_train_tr=X_data[X_data['treatment']==1]\n",
    "    y_train_tr=y_data[X_data['treatment']==1]\n",
    "    xs_t=x_train_sr.iloc[:,0].to_numpy()\n",
    "    xt_t=x_train_tr.iloc[:,0].to_numpy()\n",
    "    \n",
    "    xs=x_train_sr.iloc[:,5:30].to_numpy()\n",
    "    xt=x_train_tr.iloc[:,5:30].to_numpy()\n",
    "    xs_t=torch.from_numpy(xs_t.astype(np.float32))\n",
    "    xt_t=torch.from_numpy(xt_t.astype(np.float32))\n",
    "    y_train_sr=y_train_sr.to_numpy()\n",
    "    y_train_tr=y_train_tr.to_numpy()\n",
    "    xs=torch.from_numpy(xs.astype(np.float32))\n",
    "    xt=torch.from_numpy(xt.astype(np.float32))\n",
    "    \n",
    "    y_train_sr=torch.from_numpy(y_train_sr.astype(np.float32))\n",
    "    y_train_tr=torch.from_numpy(y_train_tr.astype(np.float32))\n",
    "    \n",
    "    \n",
    "    input_data=torch.cat((xs,xt),0)\n",
    "    true_y=torch.unsqueeze(torch.cat((y_train_sr,y_train_tr),0), dim=1)\n",
    "    true_t=torch.unsqueeze(torch.cat((xs_t,xt_t),0), dim=1)\n",
    "    \n",
    "    \n",
    "    concat_true=torch.cat((true_y,true_t),1)\n",
    "    concat_pred=net(input_data)\n",
    "    loss=regression_loss(concat_true, concat_pred)\n",
    "    \n",
    "    return loss.item()\n",
    "\n",
    "    \n",
    "    \n",
    "    "
   ]
  },
  {
   "cell_type": "code",
   "execution_count": 113,
   "id": "c05852e9",
   "metadata": {},
   "outputs": [],
   "source": [
    "#criterion_reg=nn.MSELoss()\n",
    "#criterion_reg=regression_loss(concat_true,concat_pred)\n",
    "epochs=300\n",
    "batch_size=32"
   ]
  },
  {
   "cell_type": "code",
   "execution_count": 114,
   "id": "bcb7c2bb",
   "metadata": {},
   "outputs": [],
   "source": [
    "train_loss=[]\n",
    "val_loss=[]\n",
    "pehe_error=[]\n",
    "num_files=101\n",
    "for nf in range(1,num_files):\n",
    "    x_data,y_data=get_data('train',nf)\n",
    "    X_train, X_val,y_train, y_val = train_test_split(x_data,y_data ,\n",
    "                                       random_state=42, \n",
    "                                       test_size=0.20)\n",
    "    net=TarNet(25,.01)\n",
    "    opt_net = torch.optim.Adam(net.parameters(), lr=1e-4)\n",
    "\n",
    "    for ep in range(1,epochs+1 ):\n",
    " \n",
    "        train_dataloader_sr, train_dataloader_tr=get_dataloader(X_train,y_train,batch_size)\n",
    " \n",
    "        for batch_idx, (train_source_data, train_target_data) in enumerate(zip(train_dataloader_sr, train_dataloader_tr)):\n",
    "            \n",
    "            xs,ys=train_source_data\n",
    "            xt,yt=train_target_data\n",
    "            \n",
    "            xs_train=xs[:,5:30]\n",
    "            xt_train=xt[:,5:30]\n",
    "            \n",
    "            train_x=torch.cat((xs_train,xt_train),0)\n",
    "            train_y=torch.unsqueeze(torch.cat((ys,yt),0), dim=1)\n",
    "            true_t=torch.unsqueeze(torch.cat((xs[:,0],xt[:,0]),0), dim=1)\n",
    "            concat_true=torch.cat((train_y,true_t),1)\n",
    "            concat_pred=net(train_x)\n",
    "            \n",
    "            opt_net.zero_grad()\n",
    "            \n",
    "            #source_mse=criterion_reg(y0,ys)\n",
    "            #target_mse=criterion_reg(y1,yt)\n",
    "            \n",
    "            #combined loss\n",
    "            combined_loss=cfr_loss(concat_true,concat_pred)\n",
    "            #print('Training loss: ',combined_loss.item())\n",
    "            # backward propagation\n",
    "            combined_loss.backward()\n",
    "           \n",
    "            # optimize\n",
    "            opt_net.step()\n",
    "        train_loss.append(loss_cal(X_train,y_train,net))\n",
    "        val_loss.append(loss_cal(X_val,y_val,net))\n",
    "    pehe_error.append(cal_pehe(nf))\n",
    "        "
   ]
  },
  {
   "cell_type": "code",
   "execution_count": 115,
   "id": "19615b59",
   "metadata": {},
   "outputs": [
    {
     "name": "stdout",
     "output_type": "stream",
     "text": [
      "[0.7318174242973328, 0.6824777722358704, 1.0939092636108398, 0.7858610153198242, 1.0539605617523193, 1.4053597450256348, 0.9332302212715149, 0.6342498064041138, 0.672091543674469, 1.0890408754348755, 1.0953013896942139, 0.8094661831855774, 1.1421617269515991, 1.3473392724990845, 0.7694427371025085, 0.7236334681510925, 0.9036110043525696, 1.3081250190734863, 0.947779655456543, 1.1535959243774414, 0.9219589233398438, 0.9500879645347595, 0.9386271238327026, 0.8028010725975037, 0.7035080194473267, 1.0018032789230347, 1.0013563632965088, 0.8061562776565552, 1.4926222562789917, 0.8464391827583313, 0.6493361592292786, 1.2194827795028687, 0.9972955584526062, 0.8409155011177063, 0.780906081199646, 0.7527351379394531, 1.0193794965744019, 0.8916681408882141, 1.0181671380996704, 2.034306287765503, 1.670753002166748, 0.6952239274978638, 0.8863675594329834, 0.6579389572143555, 1.0477006435394287, 1.075119972229004, 0.7937597632408142, 1.3164782524108887, 2.625819206237793, 3.0810775756835938, 0.8890954256057739, 0.8692359328269958, 0.7863532900810242, 1.9629249572753906, 1.0480538606643677, 1.3542518615722656, 1.183366298675537, 2.1517326831817627, 0.848261833190918, 0.8657037615776062, 0.7304164171218872, 0.9279416799545288, 0.6684296131134033, 1.0672940015792847, 1.1311143636703491, 1.0172734260559082, 1.7747728824615479, 0.9963258504867554, 1.1898359060287476, 0.8973571062088013, 1.9745452404022217, 1.3022295236587524, 1.2483866214752197, 0.9246841669082642, 1.326838493347168, 0.814832329750061, 0.6788395643234253, 1.2004257440567017, 0.9110934138298035, 1.5268474817276, 1.054929256439209, 2.211151123046875, 1.1092970371246338, 1.1228877305984497, 0.9167041182518005, 0.9037700891494751, 0.6927057504653931, 2.306412696838379, 0.8063531517982483, 0.8525665998458862, 1.0283119678497314, 0.8022182583808899, 0.7080909013748169, 1.519520878791809, 0.853643536567688, 2.5786569118499756, 0.9361239671707153, 0.9090152382850647, 0.9190785884857178, 1.0321989059448242]\n"
     ]
    }
   ],
   "source": [
    "print(pehe_error)"
   ]
  },
  {
   "cell_type": "code",
   "execution_count": 116,
   "id": "a535ce05",
   "metadata": {},
   "outputs": [
    {
     "data": {
      "text/plain": [
       "1.1033434665203095"
      ]
     },
     "execution_count": 116,
     "metadata": {},
     "output_type": "execute_result"
    }
   ],
   "source": [
    "np.mean(pehe_error)"
   ]
  },
  {
   "cell_type": "code",
   "execution_count": 261,
   "id": "4fb86433",
   "metadata": {},
   "outputs": [
    {
     "data": {
      "image/png": "[encoded data removed]",
      "text/plain": [
       "<Figure size 640x480 with 1 Axes>"
      ]
     },
     "metadata": {},
     "output_type": "display_data"
    }
   ],
   "source": [
    "plt.plot(train_loss, label='Regression loss on training')\n",
    "plt.plot(val_loss, label='Regression loss on validation')\n",
    "plt.legend()\n",
    "plt.show()"
   ]
  },
  {
   "cell_type": "code",
   "execution_count": null,
   "id": "d7f0b0c4",
   "metadata": {},
   "outputs": [],
   "source": [
    "#ate_pred=torch.mean(cate_pred)\n",
    "#print(\"Estimated ATE (True is 4):\", ate_pred.detach().numpy(),'\\n\\n')\n",
    "\n",
    "#print(\"Individualized CATE Estimates: BLUE\")\n",
    "#print(pd.Series(cate_pred.detach().numpy()).plot.kde(color='blue'))\n",
    "#print(\"Individualized CATE True: Green\")\n",
    "#print(pd.Series(cate_true.detach().numpy()).plot.kde(color='green'))\n",
    "\n",
    "#print(\"\\nError CATE Estimates: RED\")\n",
    "#print(pd.Series(cate_pred.detach().numpy()-cate_true.detach().numpy()).plot.kde(color='red'))"
   ]
  }
 ],
 "metadata": {
  "kernelspec": {
   "display_name": "RL",
   "language": "python",
   "name": "rl"
  },
  "language_info": {
   "codemirror_mode": {
    "name": "ipython",
    "version": 3
   },
   "file_extension": ".py",
   "mimetype": "text/x-python",
   "name": "python",
   "nbconvert_exporter": "python",
   "pygments_lexer": "ipython3",
   "version": "3.10.6"
  }
 },
 "nbformat": 4,
 "nbformat_minor": 5
}
