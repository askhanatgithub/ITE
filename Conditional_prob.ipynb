{
 "cells": [
  {
   "cell_type": "code",
   "execution_count": 33,
   "id": "7a79bc1b",
   "metadata": {},
   "outputs": [
    {
     "name": "stdout",
     "output_type": "stream",
     "text": [
      "(344, 7)\n"
     ]
    }
   ],
   "source": [
    "import seaborn as sns\n",
    "import pandas as pd\n",
    "import numpy as np\n",
    "\n",
    "# get data\n",
    "peng = sns.load_dataset('penguins', cache=True, data_home=None)\n",
    "print(peng.shape)\n",
    "\n",
    "# clean data to make continous variables categorical\n",
    "cont_cols = list( peng.select_dtypes('float64').columns )\n",
    "\n",
    "# number of levels\n",
    "levels = 3\n",
    "\n",
    "for col in cont_cols:\n",
    "    peng[col] = pd.cut(  peng[col], levels )"
   ]
  },
  {
   "cell_type": "code",
   "execution_count": 34,
   "id": "91157643",
   "metadata": {},
   "outputs": [],
   "source": [
    "def joint_probs(DF, index, cols ):\n",
    "    all_cols = index + cols\n",
    "    N = DF.shape[0]\n",
    "    \n",
    "    joint_counts = pd.pivot_table( DF[all_cols] , index = index , columns= cols , aggfunc= 'size' ).replace(np.nan,0)\n",
    "    \n",
    "    joint_prob = np.round( joint_counts / N, 3)\n",
    "    \n",
    "    return joint_prob"
   ]
  },
  {
   "cell_type": "code",
   "execution_count": 35,
   "id": "0ee6db90",
   "metadata": {},
   "outputs": [
    {
     "name": "stdout",
     "output_type": "stream",
     "text": [
      "sex               Female   Male\n",
      "bill_length_mm                 \n",
      "(32.072, 41.267]   0.215  0.142\n",
      "(41.267, 50.433]   0.253  0.230\n",
      "(50.433, 59.6]     0.012  0.116 \n",
      "\n"
     ]
    }
   ],
   "source": [
    "JP = joint_probs(peng, ['bill_length_mm'], ['sex'] )\n",
    "print(JP,'\\n')"
   ]
  },
  {
   "cell_type": "code",
   "execution_count": 36,
   "id": "64fc8674",
   "metadata": {},
   "outputs": [],
   "source": [
    "def cond_prob_dist(joint_probs):\n",
    "    # P(A | B) = P( A and B ) / P(B)\n",
    "    ## https://en.wikipedia.org/wiki/Conditional_probability\n",
    "    \n",
    "    \"\"\"\n",
    "    calculates the conditions prob. distribution where:\n",
    "    joint_probs: is a joint prob distribution as pandas dataframe\n",
    "    A = {index   of joint_probs} = {a1, a2, .. an }\n",
    "    B = {columns of joint_probs} = {b1, b2, .. bn }\n",
    "    \n",
    "    \n",
    "    returns:\n",
    "    CPD = the conditional probability dist P(A|B) as a pandas dataframe\n",
    "    \"\"\"\n",
    "    \n",
    "    CPD = joint_probs.copy()\n",
    "\n",
    "    # column sum\n",
    "    col_totals = joint_probs.sum(axis=0)\n",
    "    \n",
    "    for col in col_totals.index:\n",
    "        CPD[col] =   CPD[col] / col_totals.loc[col]\n",
    "        \n",
    "    # rename columns\n",
    "    CPD.columns = [ f'b{i+1} = {x}' for i,x in enumerate(CPD.columns) ]\n",
    "    CPD.index   = [ f'a{i+1} = {x}' for i,x in enumerate(CPD.index) ]\n",
    "        \n",
    "    return CPD.round(3)"
   ]
  },
  {
   "cell_type": "code",
   "execution_count": 38,
   "id": "46681ab4",
   "metadata": {},
   "outputs": [
    {
     "name": "stdout",
     "output_type": "stream",
     "text": [
      "                       b1 = Female  b2 = Male\n",
      "a1 = (32.072, 41.267]        0.448      0.291\n",
      "a2 = (41.267, 50.433]        0.527      0.471\n",
      "a3 = (50.433, 59.6]          0.025      0.238 \n",
      "\n"
     ]
    }
   ],
   "source": [
    "\n",
    "cd=cond_prob_dist(JP) \n",
    "print( cd , '\\n')"
   ]
  },
  {
   "cell_type": "code",
   "execution_count": 52,
   "id": "b4c1ca38",
   "metadata": {},
   "outputs": [],
   "source": [
    "avg=np.mean(cd.iloc[:,1])"
   ]
  },
  {
   "cell_type": "code",
   "execution_count": null,
   "id": "5bb34570",
   "metadata": {},
   "outputs": [],
   "source": []
  }
 ],
 "metadata": {
  "kernelspec": {
   "display_name": "RL",
   "language": "python",
   "name": "rl"
  },
  "language_info": {
   "codemirror_mode": {
    "name": "ipython",
    "version": 3
   },
   "file_extension": ".py",
   "mimetype": "text/x-python",
   "name": "python",
   "nbconvert_exporter": "python",
   "pygments_lexer": "ipython3",
   "version": "3.10.6"
  }
 },
 "nbformat": 4,
 "nbformat_minor": 5
}
