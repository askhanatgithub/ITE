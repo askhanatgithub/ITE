{
 "cells": [
  {
   "cell_type": "code",
   "execution_count": 7,
   "id": "d54e5b54",
   "metadata": {},
   "outputs": [],
   "source": [
    "import GPy\n",
    "import string\n",
    "import numpy as np\n",
    "import pandas as pd\n",
    "from sklearn.decomposition import PCA\n",
    "#import cPickle as pickle\n",
    "from GPy.util import pca\n",
    "from matplotlib import pyplot as plt\n",
    "import torch\n",
    "from sklearn import svm\n",
    "from sklearn.utils import resample\n",
    "%matplotlib inline"
   ]
  },
  {
   "cell_type": "code",
   "execution_count": 8,
   "id": "ad205993",
   "metadata": {},
   "outputs": [],
   "source": [
    "def get_data(data_type,file_num):\n",
    "\n",
    "    if(data_type=='train'):\n",
    "        data=pd.read_csv(f\"Dataset/IHDP_a/ihdp_npci_train_{file_num}.csv\")\n",
    "        #data=pd.read_csv(f\"Data/ihdp_npci_train_{file_num}.csv\",index_col=False)\n",
    "    else:\n",
    "        data = pd.read_csv(f\"Dataset/IHDP_a/ihdp_npci_test_{file_num}.csv\")\n",
    "        #data = pd.read_csv(f\"Data/ihdp_npci_test_{file_num}.csv\",index_col=False)\n",
    "\n",
    "    x_data=pd.concat([data.iloc[:,0], data.iloc[:, 1:30]], axis = 1)\n",
    " \n",
    "   \n",
    "    y_data=data.iloc[:, 1]\n",
    "    \n",
    "    return x_data,y_data\n",
    "\n",
    "def cal_pehe(y_1,y_0,test_x):\n",
    "    #pehe...\n",
    "    cate_pred=y_1-y_0\n",
    "    #cate_pred=y1-y0\n",
    "    cate_true=test_x.iloc[:,4]-test_x.iloc[:,3] #Hill's noiseless true values\n",
    "    cate_err=np.mean( np.square( ( (cate_true) - (cate_pred) ) ) )\n",
    "    return np.sqrt(cate_err)"
   ]
  },
  {
   "cell_type": "code",
   "execution_count": 9,
   "id": "2eb48305",
   "metadata": {},
   "outputs": [],
   "source": [
    "def train_GPLVM(input_dim,Yn,kr):\n",
    "    input_dim = input_dim\n",
    "    # define covariance function to be used\n",
    "    if(kr=='RBF'):\n",
    "        kernel = GPy.kern.RBF(input_dim, ARD=True)\n",
    "    else:\n",
    "        kernel = GPy.kern.Linear(input_dim, ARD=True)\n",
    "        \n",
    "    # setup the GPLVM model\n",
    "    m = GPy.models.GPLVM(Yn, input_dim=input_dim, kernel=kernel)\n",
    "    # optimize for 1000 iterations\n",
    "    m.optimize(messages=1, max_iters=1000) \n",
    "    return m"
   ]
  },
  {
   "cell_type": "code",
   "execution_count": 10,
   "id": "f6e71457",
   "metadata": {},
   "outputs": [],
   "source": [
    "def upsample(x_data, y_data):\n",
    "    x_train_sr=x_data[x_data['treatment']==1]\n",
    "    y_train_sr=y_data[x_data['treatment']==1]\n",
    "    x_train_tr=x_data[x_data['treatment']==0]\n",
    "    y_train_tr=y_data[x_data['treatment']==0]\n",
    "    \n",
    "    #x_sr_upsample = resample(x_train_sr,replace=True,n_samples=len(x_train_tr),random_state=42)\n",
    "    \n",
    "    #y_sr_upsample = resample(y_train_sr,replace=True,n_samples=len(y_train_tr),random_state=42)\n",
    "    \n",
    "    return x_train_sr,y_train_sr,x_train_tr,y_train_tr\n",
    "    \n",
    "\n",
    "def SA_2(sr,tr,lat_dim):\n",
    "    pca_src_ = PCA(lat_dim)\n",
    "    pca_tgt_ = PCA(lat_dim)\n",
    "    pca_src_.fit(sr)\n",
    "    pca_tgt_.fit(tr)\n",
    "    Xs=pca_src_.components_.transpose()\n",
    "    Xt=pca_tgt_.components_.transpose()\n",
    "    \n",
    "    sr_aligned=sr@(Xs @ Xs.transpose()@Xt);\n",
    "    tr_projected = tr@Xt;\n",
    "    \n",
    "    \n",
    "    return sr_aligned, tr_projected,pca_src_,pca_tgt_\n",
    "\n",
    "    \n",
    "def SA(sr,tr,lat_dim,kr):\n",
    "    Ysr=sr.transpose()\n",
    "    Ytr=tr.transpose()\n",
    "    msr=train_GPLVM(lat_dim,Ysr,kr)\n",
    "    mtr=train_GPLVM(lat_dim,Ytr,kr)\n",
    "    emd_sr=np.array(msr.X)\n",
    "    emd_tr=np.array(mtr.X)\n",
    "    sr_aligned=sr@(emd_sr @ emd_sr.transpose()@emd_tr);\n",
    "    tr_projected = tr@emd_tr;\n",
    "    \n",
    "    return sr_aligned,tr_projected,msr,mtr\n",
    "    \n",
    "    #color=np.where(labels==1, 'Red','Green')\n",
    "    #ar=np.array(m.X)"
   ]
  },
  {
   "cell_type": "code",
   "execution_count": 11,
   "id": "6b844b98",
   "metadata": {},
   "outputs": [],
   "source": [
    "#fil_num=50\n",
    "input_dim=10\n",
    "kr='Linear' #RBF\n",
    "pehe_error=[]\n",
    "reg_0 = svm.SVR()\n",
    "reg_1=svm.SVR()\n",
    "\n",
    "for i in range(1,101):\n",
    "    x_data,y_data=get_data('train',i)\n",
    "    test_x,test_y=get_data('test',i)\n",
    "    x_sr,y_sr,x_tr,y_tr=upsample(x_data, y_data)\n",
    "    \n",
    "    #x_sr_tran=x_sr.iloc[:,5:30].to_numpy().transpose()\n",
    "    #x_tr_tran=x_tr.iloc[:,5:30].to_numpy().transpose()\n",
    "    #sr_aligned,emd_tr,msr,mtr=SA(x_sr_tran,x_tr_tran,input_dim,kr)\n",
    "    sr,tr,pca_sr,pca_tr=SA_2(x_sr.iloc[:,5:30],x_tr.iloc[:,5:30],input_dim)\n",
    "    \n",
    "    # Test data transformation\n",
    "    test_sr=test_x[test_x['treatment']==1]\n",
    "    #test_sr_y=test_y[test_x['treatment']==1]\n",
    "    test_tr=test_x[test_x['treatment']==0]\n",
    "    #test_tr_y=test_y[test_x['treatment']==0]\n",
    "    #test_tr=test_tr.iloc[0:test_sr.shape[0],:]\n",
    "    \n",
    "    sr_test=test_sr.iloc[:,5:30].to_numpy()\n",
    "    tr_test=test_tr.iloc[:,5:30].to_numpy()\n",
    "    \n",
    "    Xs_test=pca_sr.components_.transpose()\n",
    "    Xt_test=pca_tr.components_.transpose()\n",
    "    \n",
    "    sr_aligned_test=sr_test@(Xs_test @ Xs_test.transpose()@Xt_test);\n",
    "    tr_projected_test= tr_test@Xt_test;\n",
    "    \n",
    "    \n",
    "    test_complt=pd.concat([test_sr.iloc[:,0:5],test_tr.iloc[:,0:5]], axis=0)\n",
    "    test_transformed_complt=np.concatenate((sr_aligned_test,tr_projected_test), axis=0)\n",
    "    \n",
    "    \n",
    "    reg_1.fit(sr, y_sr)\n",
    "    y_1=reg_1.predict(test_transformed_complt)\n",
    "    reg_0.fit(tr, y_tr)\n",
    "    y_0=reg_0.predict(test_transformed_complt)\n",
    "    pehe=cal_pehe(y_1,y_0,test_complt)\n",
    "    pehe_error.append(pehe)"
   ]
  },
  {
   "cell_type": "code",
   "execution_count": 12,
   "id": "483d72c9",
   "metadata": {},
   "outputs": [
    {
     "data": {
      "text/plain": [
       "1.3106601302127379"
      ]
     },
     "execution_count": 12,
     "metadata": {},
     "output_type": "execute_result"
    }
   ],
   "source": [
    "np.mean(pehe_error)"
   ]
  },
  {
   "cell_type": "code",
   "execution_count": 47,
   "id": "c8602174",
   "metadata": {},
   "outputs": [],
   "source": [
    "#t_sr_data=msr.infer_newX(test_sr.iloc[:,5:30].to_numpy())\n",
    "#emd_sr_test=np.array(t_sr_data[0])\n",
    "#t_tr_data=mtr.infer_newX(test_tr.iloc[:,5:30].to_numpy())\n",
    "#emd_tr_test=np.array(t_tr_data[0])\n",
    "\n",
    "#sr_aligned_test=(emd_sr_test @ emd_sr_test.transpose()@emd_tr_test);\n",
    "#test_complt=pd.concat([test_sr.iloc[:,0:5],test_tr.iloc[:,0:5]], axis=0)\n",
    "#test_embd_complt=np.concatenate((sr_aligned_test,emd_tr_test), axis=0)\n",
    "\n",
    "#reg_1.fit(sr_aligned, y_sr)\n",
    "#y_1=reg_1.predict(test_embd_complt)\n",
    "#reg_0.fit(emd_tr, y_tr)\n",
    "#y_0=reg_0.predict(test_embd_complt)\n",
    "#pehe=cal_pehe(y_1,y_0,test_complt)\n",
    "#pehe_error.append(pehe)"
   ]
  },
  {
   "cell_type": "code",
   "execution_count": 48,
   "id": "a913c44b",
   "metadata": {},
   "outputs": [
    {
     "data": {
      "text/plain": [
       "'\\n# Principal Component Analysis\\nfrom numpy import array\\nfrom sklearn.decomposition import PCA\\n# define a matrix\\nA = array([[1, 2,7], [3, 4,8], [5, 6,9]])\\nprint(A)\\n# create the PCA instance\\npca = PCA(2)\\n# fit on data\\npca.fit(A)\\n# access values and vectors\\nprint(pca.components_)\\nprint(pca.explained_variance_)\\n# transform data\\nB = pca.transform(A)\\nprint(B)\\n\\n'"
      ]
     },
     "execution_count": 48,
     "metadata": {},
     "output_type": "execute_result"
    }
   ],
   "source": [
    "\"\"\"\n",
    "# Principal Component Analysis\n",
    "from numpy import array\n",
    "from sklearn.decomposition import PCA\n",
    "# define a matrix\n",
    "A = array([[1, 2,7], [3, 4,8], [5, 6,9]])\n",
    "print(A)\n",
    "# create the PCA instance\n",
    "pca = PCA(2)\n",
    "# fit on data\n",
    "pca.fit(A)\n",
    "# access values and vectors\n",
    "print(pca.components_)\n",
    "print(pca.explained_variance_)\n",
    "# transform data\n",
    "B = pca.transform(A)\n",
    "print(B)\n",
    "\n",
    "\"\"\"\n"
   ]
  },
  {
   "cell_type": "code",
   "execution_count": null,
   "id": "848a0553",
   "metadata": {},
   "outputs": [],
   "source": []
  }
 ],
 "metadata": {
  "kernelspec": {
   "display_name": "RL",
   "language": "python",
   "name": "rl"
  },
  "language_info": {
   "codemirror_mode": {
    "name": "ipython",
    "version": 3
   },
   "file_extension": ".py",
   "mimetype": "text/x-python",
   "name": "python",
   "nbconvert_exporter": "python",
   "pygments_lexer": "ipython3",
   "version": "3.10.6"
  }
 },
 "nbformat": 4,
 "nbformat_minor": 5
}
