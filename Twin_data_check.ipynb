{
 "cells": [
  {
   "cell_type": "code",
   "execution_count": 32,
   "id": "539412c6",
   "metadata": {},
   "outputs": [],
   "source": [
    "import numpy as np\n",
    "from scipy.special import expit"
   ]
  },
  {
   "cell_type": "code",
   "execution_count": 33,
   "id": "4d947769",
   "metadata": {},
   "outputs": [],
   "source": [
    "def get_data(train_rate = 0.8):\n",
    "\n",
    "    ori_data = np.loadtxt(\"Data/Twin_Data.csv\", delimiter=\",\",skiprows=1)\n",
    "\n",
    "    # Define features\n",
    "    x = ori_data[:,:30]\n",
    "    no, dim = x.shape\n",
    "    potential_y = ori_data[:, 30:]\n",
    "    # Die within 1 year = 1, otherwise = 0\n",
    "    potential_y = np.array(potential_y < 9999,dtype=float) \n",
    "    ## Assign treatment\n",
    "    coef = np.random.uniform(-0.01, 0.01, size = [dim,1])\n",
    "    prob_temp = expit(np.matmul(x, coef) + np.random.normal(0,0.01, size = [no,1]))\n",
    "\n",
    "    prob_t = prob_temp/(2*np.mean(prob_temp))\n",
    "    prob_t[prob_t>1] = 1\n",
    "\n",
    "    t = np.random.binomial(1,prob_t,[no,1])\n",
    "    t = t.reshape([no,])\n",
    "    y = np.zeros([no,1])\n",
    "    y = np.transpose(t) * potential_y[:,1] + np.transpose(1-t) * potential_y[:,0]    \n",
    "    y = np.reshape(np.transpose(y), [no, ])\n",
    "    idx = np.random.permutation(no)\n",
    "    train_idx = idx[:int(train_rate * no)]\n",
    "    test_idx = idx[int(train_rate * no):]\n",
    "\n",
    "    train_x = x[train_idx,:]\n",
    "    train_t = t[train_idx]\n",
    "    train_y = y[train_idx]\n",
    "    train_potential_y = potential_y[train_idx,:]\n",
    "\n",
    "    test_x = x[test_idx,:]\n",
    "    test_potential_y = potential_y[test_idx,:]\n",
    "    return train_x, train_t, train_y, train_potential_y, test_x, test_potential_y"
   ]
  },
  {
   "cell_type": "code",
   "execution_count": null,
   "id": "b53475be",
   "metadata": {},
   "outputs": [],
   "source": []
  }
 ],
 "metadata": {
  "kernelspec": {
   "display_name": "RL",
   "language": "python",
   "name": "rl"
  },
  "language_info": {
   "codemirror_mode": {
    "name": "ipython",
    "version": 3
   },
   "file_extension": ".py",
   "mimetype": "text/x-python",
   "name": "python",
   "nbconvert_exporter": "python",
   "pygments_lexer": "ipython3",
   "version": "3.10.6"
  }
 },
 "nbformat": 4,
 "nbformat_minor": 5
}
