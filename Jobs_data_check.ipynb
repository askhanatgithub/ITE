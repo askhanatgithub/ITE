{
 "cells": [
  {
   "cell_type": "code",
   "execution_count": 1,
   "id": "539412c6",
   "metadata": {},
   "outputs": [],
   "source": [
    "import numpy as np\n",
    "import pandas as pd"
   ]
  },
  {
   "cell_type": "code",
   "execution_count": 2,
   "id": "4d947769",
   "metadata": {},
   "outputs": [],
   "source": [
    "def get_data(file_num):\n",
    "\n",
    "    data_train=pd.read_csv(f\"Dataset/Jobs/jobs_train_{file_num}.csv\",index_col=False)\n",
    "\n",
    "    data_test = pd.read_csv(f\"Dataset/Jobs/jobs_test_{file_num}.csv\",index_col=False)\n",
    "\n",
    "    data_train_x = data_train.iloc[:, 0:17].to_numpy() \n",
    "    data_test_x = data_test.iloc[:, 0:17].to_numpy() \n",
    "\n",
    "    data_mean = np.mean(data_train_x, axis=0, keepdims=True)\n",
    "    data_std = np.std(data_train_x, axis=0, keepdims=True)\n",
    "\n",
    "    data_train_x = pd.DataFrame((data_train_x - data_mean) / data_std)\n",
    "    data_test_x = pd.DataFrame((data_test_x - data_mean) / data_std)\n",
    "\n",
    "    data_train_t = data_train.iloc[:, 17:18]\n",
    "    data_train_y = data_train.iloc[:, 18:19].astype(np.float32)\n",
    "    data_train_e = data_train.iloc[:, 19:20]\n",
    "\n",
    "    data_test_t = data_test.iloc[:, 17:18]\n",
    "    data_test_y = data_test.iloc[:, 18:19].astype(np.float32)\n",
    "    data_test_e = data_test.iloc[:, 19:20]\n",
    "\n",
    "\n",
    "    train_data=pd.concat([data_train_x,data_train_t,data_train_e],1)\n",
    "    train_y=data_train_y\n",
    "\n",
    "    test_data=pd.concat([data_test_x,data_test_t,data_test_e],1)\n",
    "    test_y=data_test_y\n",
    "    \n",
    "    return train_data,train_y,test_data,test_y\n"
   ]
  },
  {
   "cell_type": "code",
   "execution_count": 3,
   "id": "8e81e93a",
   "metadata": {},
   "outputs": [
    {
     "name": "stderr",
     "output_type": "stream",
     "text": [
      "/tmp/ipykernel_4887/3754758553.py:25: FutureWarning: In a future version of pandas all arguments of concat except for the argument 'objs' will be keyword-only.\n",
      "  train_data=pd.concat([data_train_x,data_train_t,data_train_e],1)\n",
      "/tmp/ipykernel_4887/3754758553.py:28: FutureWarning: In a future version of pandas all arguments of concat except for the argument 'objs' will be keyword-only.\n",
      "  test_data=pd.concat([data_test_x,data_test_t,data_test_e],1)\n"
     ]
    }
   ],
   "source": [
    "train_data,train_y,test_data,test_y=get_data(5)"
   ]
  },
  {
   "cell_type": "code",
   "execution_count": 14,
   "id": "c498127d",
   "metadata": {},
   "outputs": [
    {
     "data": {
      "text/plain": [
       "0       0.0\n",
       "1       0.0\n",
       "2       0.0\n",
       "3       0.0\n",
       "4       0.0\n",
       "       ... \n",
       "2886    0.0\n",
       "2887    0.0\n",
       "2888    0.0\n",
       "2889    0.0\n",
       "2890    0.0\n",
       "Name: t, Length: 2891, dtype: float64"
      ]
     },
     "execution_count": 14,
     "metadata": {},
     "output_type": "execute_result"
    }
   ],
   "source": [
    "train_data.iloc[:,17]"
   ]
  },
  {
   "cell_type": "code",
   "execution_count": null,
   "id": "70f43adf",
   "metadata": {},
   "outputs": [],
   "source": []
  },
  {
   "cell_type": "code",
   "execution_count": null,
   "id": "d416baf9",
   "metadata": {},
   "outputs": [],
   "source": []
  }
 ],
 "metadata": {
  "kernelspec": {
   "display_name": "RL",
   "language": "python",
   "name": "rl"
  },
  "language_info": {
   "codemirror_mode": {
    "name": "ipython",
    "version": 3
   },
   "file_extension": ".py",
   "mimetype": "text/x-python",
   "name": "python",
   "nbconvert_exporter": "python",
   "pygments_lexer": "ipython3",
   "version": "3.10.6"
  }
 },
 "nbformat": 4,
 "nbformat_minor": 5
}
