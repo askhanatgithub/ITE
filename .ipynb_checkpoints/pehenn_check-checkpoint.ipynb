{
 "cells": [
  {
   "cell_type": "code",
   "execution_count": 20,
   "id": "3a74f17d",
   "metadata": {},
   "outputs": [
    {
     "name": "stderr",
     "output_type": "stream",
     "text": [
      "/home/ahmad/envs/RL/lib/python3.10/site-packages/tqdm/auto.py:22: TqdmWarning: IProgress not found. Please update jupyter and ipywidgets. See https://ipywidgets.readthedocs.io/en/stable/user_install.html\n",
      "  from .autonotebook import tqdm as notebook_tqdm\n"
     ]
    }
   ],
   "source": [
    "import numpy as np\n",
    "import pandas as pd\n",
    "import torch"
   ]
  },
  {
   "cell_type": "code",
   "execution_count": 21,
   "id": "cd47b616",
   "metadata": {},
   "outputs": [],
   "source": [
    "cols=['x1','x2','x3','x4','t','y']\n",
    "datat=pd.DataFrame(columns=cols)\n",
    "datac=pd.DataFrame(columns=cols)"
   ]
  },
  {
   "cell_type": "code",
   "execution_count": 22,
   "id": "63c10e9e",
   "metadata": {},
   "outputs": [],
   "source": [
    "datat.loc[len(datat.index)] = [20, 7, 5,13,1,12]\n",
    "datat.loc[len(datat.index)] = [21, 8, 6,14,1,13]\n",
    "datat.loc[len(datat.index)] = [22, 9, 7,15,1,14]\n",
    "datat.loc[len(datat.index)] = [23, 10, 8,16,1,15]"
   ]
  },
  {
   "cell_type": "code",
   "execution_count": 23,
   "id": "1d0477b1",
   "metadata": {},
   "outputs": [],
   "source": [
    "datac.loc[len(datac.index)] = [24, 11, 9,17,0,16]\n",
    "datac.loc[len(datac.index)] = [25, 12, 10,18,0,17]\n",
    "datac.loc[len(datac.index)] = [26, 13, 11,19,0,18]\n",
    "datac.loc[len(datac.index)] = [27, 14, 12,20,0,19]"
   ]
  },
  {
   "cell_type": "code",
   "execution_count": 31,
   "id": "cb9b60bd",
   "metadata": {},
   "outputs": [],
   "source": [
    "datat_numpy= datat.to_numpy()\n",
    "datat_torch=torch.from_numpy(datat_numpy.astype(np.float32))\n",
    "datac_numpy= datac.to_numpy()\n",
    "datac_torch=torch.from_numpy(datac_numpy.astype(np.float32))\n",
    "dists = torch.sqrt(torch.cdist(datac_torch, datat_torch))"
   ]
  },
  {
   "cell_type": "code",
   "execution_count": 69,
   "id": "fc5b3347",
   "metadata": {},
   "outputs": [
    {
     "data": {
      "text/plain": [
       "tensor([[3.0000, 2.6043, 2.1407, 1.5651],\n",
       "        [3.3504, 3.0000, 2.6043, 2.1407],\n",
       "        [3.6679, 3.3504, 3.0000, 2.6043],\n",
       "        [3.9604, 3.6679, 3.3504, 3.0000]])"
      ]
     },
     "execution_count": 69,
     "metadata": {},
     "output_type": "execute_result"
    }
   ],
   "source": [
    "dists"
   ]
  },
  {
   "cell_type": "code",
   "execution_count": 70,
   "id": "2252766a",
   "metadata": {},
   "outputs": [],
   "source": [
    "c_index=torch.argmin(dists, dim=0).tolist()\n",
    "t_index=torch.argmin(dists, dim=1).tolist()"
   ]
  },
  {
   "cell_type": "code",
   "execution_count": 71,
   "id": "198e3634",
   "metadata": {},
   "outputs": [],
   "source": [
    "yT_nn=datac.iloc[c_index]['y']\n",
    "yc_nn=datat.iloc[t_index]['y']\n"
   ]
  },
  {
   "cell_type": "code",
   "execution_count": 72,
   "id": "4e97d08d",
   "metadata": {},
   "outputs": [
    {
     "data": {
      "text/plain": [
       "array([16, 16, 16, 16])"
      ]
     },
     "execution_count": 72,
     "metadata": {},
     "output_type": "execute_result"
    }
   ],
   "source": [
    "b.to_numpy()"
   ]
  },
  {
   "cell_type": "code",
   "execution_count": null,
   "id": "04b50c99",
   "metadata": {},
   "outputs": [],
   "source": []
  },
  {
   "cell_type": "code",
   "execution_count": null,
   "id": "90f7b5b1",
   "metadata": {},
   "outputs": [],
   "source": []
  }
 ],
 "metadata": {
  "kernelspec": {
   "display_name": "RL",
   "language": "python",
   "name": "rl"
  },
  "language_info": {
   "codemirror_mode": {
    "name": "ipython",
    "version": 3
   },
   "file_extension": ".py",
   "mimetype": "text/x-python",
   "name": "python",
   "nbconvert_exporter": "python",
   "pygments_lexer": "ipython3",
   "version": "3.10.6"
  }
 },
 "nbformat": 4,
 "nbformat_minor": 5
}
