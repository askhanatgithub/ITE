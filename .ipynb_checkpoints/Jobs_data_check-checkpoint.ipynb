{
 "cells": [
  {
   "cell_type": "code",
   "execution_count": 13,
   "id": "539412c6",
   "metadata": {},
   "outputs": [],
   "source": [
    "import numpy as np\n",
    "import pandas as pd"
   ]
  },
  {
   "cell_type": "code",
   "execution_count": 14,
   "id": "4d947769",
   "metadata": {},
   "outputs": [],
   "source": [
    "def get_data(file_num):\n",
    "\n",
    "    data_train=pd.read_csv(f\"Dataset/Jobs/jobs_train_{file_num}.csv\",index_col=False)\n",
    "\n",
    "    data_test = pd.read_csv(f\"Dataset/Jobs/jobs_test_{file_num}.csv\",index_col=False)\n",
    "\n",
    "    data_train_x = data_train.iloc[:, 0:17].to_numpy() \n",
    "    data_test_x = data_test.iloc[:, 0:17].to_numpy() \n",
    "\n",
    "    data_mean = np.mean(data_train_x, axis=0, keepdims=True)\n",
    "    data_std = np.std(data_train_x, axis=0, keepdims=True)\n",
    "\n",
    "    data_train_x = pd.DataFrame((data_train_x - data_mean) / data_std)\n",
    "    data_test_x = pd.DataFrame((data_test_x - data_mean) / data_std)\n",
    "\n",
    "    data_train_t = data_train.iloc[:, 17:18]\n",
    "    data_train_y = data_train.iloc[:, 18:19].astype(np.float32)\n",
    "    data_train_e = data_train.iloc[:, 19:20]\n",
    "\n",
    "    data_test_t = data_test.iloc[:, 17:18]\n",
    "    data_test_y = data_test.iloc[:, 18:19].astype(np.float32)\n",
    "    data_test_e = data_test.iloc[:, 19:20]\n",
    "\n",
    "\n",
    "    train_data=pd.concat([data_train_x,data_train_t,data_train_e],1)\n",
    "    train_y=data_train_y\n",
    "\n",
    "    test_data=pd.concat([data_test_x,data_test_t,data_test_e],1)\n",
    "    test_y=data_test_y\n",
    "    \n",
    "    return train_data,train_y,test_data,test_y\n"
   ]
  },
  {
   "cell_type": "code",
   "execution_count": 15,
   "id": "8e81e93a",
   "metadata": {},
   "outputs": [
    {
     "name": "stderr",
     "output_type": "stream",
     "text": [
      "/tmp/ipykernel_5685/3754758553.py:25: FutureWarning: In a future version of pandas all arguments of concat except for the argument 'objs' will be keyword-only.\n",
      "  train_data=pd.concat([data_train_x,data_train_t,data_train_e],1)\n",
      "/tmp/ipykernel_5685/3754758553.py:28: FutureWarning: In a future version of pandas all arguments of concat except for the argument 'objs' will be keyword-only.\n",
      "  test_data=pd.concat([data_test_x,data_test_t,data_test_e],1)\n"
     ]
    }
   ],
   "source": [
    "train_data,train_y,test_data,test_y=get_data(5)"
   ]
  },
  {
   "cell_type": "code",
   "execution_count": 19,
   "id": "c498127d",
   "metadata": {},
   "outputs": [
    {
     "data": {
      "text/html": [
       "<div>\n",
       "<style scoped>\n",
       "    .dataframe tbody tr th:only-of-type {\n",
       "        vertical-align: middle;\n",
       "    }\n",
       "\n",
       "    .dataframe tbody tr th {\n",
       "        vertical-align: top;\n",
       "    }\n",
       "\n",
       "    .dataframe thead th {\n",
       "        text-align: right;\n",
       "    }\n",
       "</style>\n",
       "<table border=\"1\" class=\"dataframe\">\n",
       "  <thead>\n",
       "    <tr style=\"text-align: right;\">\n",
       "      <th></th>\n",
       "      <th>yf</th>\n",
       "    </tr>\n",
       "  </thead>\n",
       "  <tbody>\n",
       "    <tr>\n",
       "      <th>0</th>\n",
       "      <td>1.0</td>\n",
       "    </tr>\n",
       "    <tr>\n",
       "      <th>1</th>\n",
       "      <td>1.0</td>\n",
       "    </tr>\n",
       "    <tr>\n",
       "      <th>2</th>\n",
       "      <td>1.0</td>\n",
       "    </tr>\n",
       "    <tr>\n",
       "      <th>3</th>\n",
       "      <td>1.0</td>\n",
       "    </tr>\n",
       "    <tr>\n",
       "      <th>4</th>\n",
       "      <td>1.0</td>\n",
       "    </tr>\n",
       "    <tr>\n",
       "      <th>...</th>\n",
       "      <td>...</td>\n",
       "    </tr>\n",
       "    <tr>\n",
       "      <th>316</th>\n",
       "      <td>1.0</td>\n",
       "    </tr>\n",
       "    <tr>\n",
       "      <th>317</th>\n",
       "      <td>1.0</td>\n",
       "    </tr>\n",
       "    <tr>\n",
       "      <th>318</th>\n",
       "      <td>1.0</td>\n",
       "    </tr>\n",
       "    <tr>\n",
       "      <th>319</th>\n",
       "      <td>1.0</td>\n",
       "    </tr>\n",
       "    <tr>\n",
       "      <th>320</th>\n",
       "      <td>1.0</td>\n",
       "    </tr>\n",
       "  </tbody>\n",
       "</table>\n",
       "<p>321 rows × 1 columns</p>\n",
       "</div>"
      ],
      "text/plain": [
       "      yf\n",
       "0    1.0\n",
       "1    1.0\n",
       "2    1.0\n",
       "3    1.0\n",
       "4    1.0\n",
       "..   ...\n",
       "316  1.0\n",
       "317  1.0\n",
       "318  1.0\n",
       "319  1.0\n",
       "320  1.0\n",
       "\n",
       "[321 rows x 1 columns]"
      ]
     },
     "execution_count": 19,
     "metadata": {},
     "output_type": "execute_result"
    }
   ],
   "source": [
    "test_y"
   ]
  },
  {
   "cell_type": "code",
   "execution_count": null,
   "id": "70f43adf",
   "metadata": {},
   "outputs": [],
   "source": []
  },
  {
   "cell_type": "code",
   "execution_count": null,
   "id": "d416baf9",
   "metadata": {},
   "outputs": [],
   "source": []
  }
 ],
 "metadata": {
  "kernelspec": {
   "display_name": "RL",
   "language": "python",
   "name": "rl"
  },
  "language_info": {
   "codemirror_mode": {
    "name": "ipython",
    "version": 3
   },
   "file_extension": ".py",
   "mimetype": "text/x-python",
   "name": "python",
   "nbconvert_exporter": "python",
   "pygments_lexer": "ipython3",
   "version": "3.10.6"
  }
 },
 "nbformat": 4,
 "nbformat_minor": 5
}
