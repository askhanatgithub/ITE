{
 "cells": [
  {
   "cell_type": "code",
   "execution_count": 13,
   "id": "3bb8fad0",
   "metadata": {},
   "outputs": [
    {
     "ename": "TypeError",
     "evalue": "SparseGP.__init__() missing 2 required positional arguments: 'Z' and 'likelihood'",
     "output_type": "error",
     "traceback": [
      "\u001b[0;31m---------------------------------------------------------------------------\u001b[0m",
      "\u001b[0;31mTypeError\u001b[0m                                 Traceback (most recent call last)",
      "Cell \u001b[0;32mIn[13], line 13\u001b[0m\n\u001b[1;32m     10\u001b[0m Y \u001b[38;5;241m=\u001b[39m np\u001b[38;5;241m.\u001b[39mhstack([Y1, Y2])\n\u001b[1;32m     12\u001b[0m kernel \u001b[38;5;241m=\u001b[39m GPy\u001b[38;5;241m.\u001b[39mkern\u001b[38;5;241m.\u001b[39mRBF(input_dim\u001b[38;5;241m=\u001b[39m\u001b[38;5;241m1\u001b[39m, ARD\u001b[38;5;241m=\u001b[39m\u001b[38;5;28;01mTrue\u001b[39;00m)\n\u001b[0;32m---> 13\u001b[0m q \u001b[38;5;241m=\u001b[39m \u001b[43mGPy\u001b[49m\u001b[38;5;241;43m.\u001b[39;49m\u001b[43mcore\u001b[49m\u001b[38;5;241;43m.\u001b[39;49m\u001b[43msparse_gp\u001b[49m\u001b[38;5;241;43m.\u001b[39;49m\u001b[43mSparseGP\u001b[49m\u001b[43m(\u001b[49m\u001b[43mX\u001b[49m\u001b[43m,\u001b[49m\u001b[43m \u001b[49m\u001b[43mY\u001b[49m\u001b[43m,\u001b[49m\u001b[43m \u001b[49m\u001b[43mkernel\u001b[49m\u001b[38;5;241;43m=\u001b[39;49m\u001b[43mkernel\u001b[49m\u001b[43m)\u001b[49m\n\u001b[1;32m     14\u001b[0m shared_kernel \u001b[38;5;241m=\u001b[39m GPy\u001b[38;5;241m.\u001b[39mkern\u001b[38;5;241m.\u001b[39mLinear(input_dim\u001b[38;5;241m=\u001b[39mnum_latent, output_dim\u001b[38;5;241m=\u001b[39mY\u001b[38;5;241m.\u001b[39mshape[\u001b[38;5;241m1\u001b[39m])\n\u001b[1;32m     16\u001b[0m m \u001b[38;5;241m=\u001b[39m GPy\u001b[38;5;241m.\u001b[39mmodels\u001b[38;5;241m.\u001b[39mSparseGPRegression(X, Y, kernel\u001b[38;5;241m=\u001b[39mkernel, num_inducing\u001b[38;5;241m=\u001b[39m\u001b[38;5;241m10\u001b[39m, Z\u001b[38;5;241m=\u001b[39mq\u001b[38;5;241m.\u001b[39mZ, \n\u001b[1;32m     17\u001b[0m                                   shared_kernel\u001b[38;5;241m=\u001b[39mshared_kernel, num_latent\u001b[38;5;241m=\u001b[39mnum_latent)\n",
      "File \u001b[0;32m~/envs/RL/lib/python3.10/site-packages/paramz/parameterized.py:53\u001b[0m, in \u001b[0;36mParametersChangedMeta.__call__\u001b[0;34m(self, *args, **kw)\u001b[0m\n\u001b[1;32m     51\u001b[0m \u001b[38;5;66;03m#import ipdb;ipdb.set_trace()\u001b[39;00m\n\u001b[1;32m     52\u001b[0m initialize \u001b[38;5;241m=\u001b[39m kw\u001b[38;5;241m.\u001b[39mpop(\u001b[38;5;124m'\u001b[39m\u001b[38;5;124minitialize\u001b[39m\u001b[38;5;124m'\u001b[39m, \u001b[38;5;28;01mTrue\u001b[39;00m)\n\u001b[0;32m---> 53\u001b[0m \u001b[38;5;28mself\u001b[39m \u001b[38;5;241m=\u001b[39m \u001b[38;5;28;43msuper\u001b[39;49m\u001b[43m(\u001b[49m\u001b[43mParametersChangedMeta\u001b[49m\u001b[43m,\u001b[49m\u001b[43m \u001b[49m\u001b[38;5;28;43mself\u001b[39;49m\u001b[43m)\u001b[49m\u001b[38;5;241;43m.\u001b[39;49m\u001b[38;5;21;43m__call__\u001b[39;49m\u001b[43m(\u001b[49m\u001b[38;5;241;43m*\u001b[39;49m\u001b[43margs\u001b[49m\u001b[43m,\u001b[49m\u001b[43m \u001b[49m\u001b[38;5;241;43m*\u001b[39;49m\u001b[38;5;241;43m*\u001b[39;49m\u001b[43mkw\u001b[49m\u001b[43m)\u001b[49m\n\u001b[1;32m     54\u001b[0m \u001b[38;5;66;03m#logger.debug(\"finished init\")\u001b[39;00m\n\u001b[1;32m     55\u001b[0m \u001b[38;5;28mself\u001b[39m\u001b[38;5;241m.\u001b[39m_in_init_ \u001b[38;5;241m=\u001b[39m \u001b[38;5;28;01mFalse\u001b[39;00m\n",
      "\u001b[0;31mTypeError\u001b[0m: SparseGP.__init__() missing 2 required positional arguments: 'Z' and 'likelihood'"
     ]
    }
   ],
   "source": [
    "import GPy\n",
    "import numpy as np\n",
    "\n",
    "# Define the model\n",
    "num_latent = 2\n",
    "num_data = 100\n",
    "X = np.random.randn(num_data, 1)\n",
    "Y1 = np.sin(X) + np.random.randn(num_data, 1) * 0.05\n",
    "Y2 = np.cos(X) + np.random.randn(num_data, 1) * 0.05\n",
    "Y = np.hstack([Y1, Y2])\n",
    "\n",
    "kernel = GPy.kern.RBF(input_dim=1, ARD=True)\n",
    "q = GPy.core.sparse_gp.SparseGP(X, Y, kernel=kernel)\n",
    "shared_kernel = GPy.kern.Linear(input_dim=num_latent, output_dim=Y.shape[1])\n",
    "\n",
    "m = GPy.models.SparseGPRegression(X, Y, kernel=kernel, num_inducing=10, Z=q.Z, \n",
    "                                  shared_kernel=shared_kernel, num_latent=num_latent)\n",
    "\n",
    "# Optimize the hyperparameters\n",
    "m.optimize()\n",
    "\n",
    "# Evaluate the model\n",
    "Xtest = np.linspace(-5, 5, 100).reshape(-1, 1)\n",
    "Ypred, _ = m.predict(Xtest)\n",
    "\n",
    "# Plot the results\n",
    "import matplotlib.pyplot as plt\n",
    "plt.plot(Xtest, Ypred[:, 0], 'r-', label='Y1')\n",
    "plt.plot(Xtest, Ypred[:, 1], 'b-', label='Y2')\n",
    "plt.plot(X[:, 0], Y[:, 0], 'ro', label='Data Y1')\n",
    "plt.plot(X[:, 0], Y[:, 1], 'bo', label='Data Y2')\n",
    "plt.legend()\n",
    "plt.show()"
   ]
  },
  {
   "cell_type": "code",
   "execution_count": null,
   "id": "696dac93",
   "metadata": {},
   "outputs": [],
   "source": []
  }
 ],
 "metadata": {
  "kernelspec": {
   "display_name": "RL",
   "language": "python",
   "name": "rl"
  },
  "language_info": {
   "codemirror_mode": {
    "name": "ipython",
    "version": 3
   },
   "file_extension": ".py",
   "mimetype": "text/x-python",
   "name": "python",
   "nbconvert_exporter": "python",
   "pygments_lexer": "ipython3",
   "version": "3.10.6"
  }
 },
 "nbformat": 4,
 "nbformat_minor": 5
}
